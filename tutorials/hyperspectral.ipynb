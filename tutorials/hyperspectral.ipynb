{
 "cells": [
  {
   "cell_type": "code",
   "execution_count": 1,
   "metadata": {},
   "outputs": [
    {
     "name": "stdout",
     "output_type": "stream",
     "text": [
      "C:\\Users\\Behnia2P2\\Navid\\Projects\\dreye\n"
     ]
    }
   ],
   "source": [
    "%cd .."
   ]
  },
  {
   "cell_type": "code",
   "execution_count": 2,
   "metadata": {},
   "outputs": [
    {
     "name": "stderr",
     "output_type": "stream",
     "text": [
      "c:\\users\\behnia2p2\\navid\\projects\\axolotl\\axolotl\\__init__.py:17: UserWarning: ATTENTION: Unable to setup necessary loris configuration to connect to database!!!\n",
      "Once the issue is resolved, can connect to the database by trying to import the `conn` method: `from axolotl.sql import conn`\n",
      "This is the error that popped up:\n",
      "No module named 'loris_config_files'\n",
      "  warnings.warn(\n"
     ]
    }
   ],
   "source": [
    "import numpy as np\n",
    "import dreye\n",
    "from dreye.stimuli.hyperspectral import baden_unpacking as bu\n",
    "from dreye.estimators.dependent_excitation_models import DependentExcitationFit\n",
    "import matplotlib.pyplot as plt"
   ]
  },
  {
   "cell_type": "code",
   "execution_count": null,
   "metadata": {},
   "outputs": [],
   "source": [
    "plt.rcParams['figure.figsize'] = [24, 16]\n",
    "plt.rcParams['figure.dpi'] = 100"
   ]
  },
  {
   "cell_type": "code",
   "execution_count": 3,
   "metadata": {},
   "outputs": [],
   "source": [
    "# path to raw data\n",
    "raw_data_path = 'dreye/stimuli/hyperspectral/alldata_formatted_cactus.txt'\n",
    "scanning_path_path = 'dreye/stimuli/hyperspectral/scanning_path.csv'"
   ]
  },
  {
   "cell_type": "code",
   "execution_count": 4,
   "metadata": {},
   "outputs": [],
   "source": [
    "image_array = np.genfromtxt(raw_data_path, delimiter=',', dtype='float64', missing_values=('-inf'))\n",
    "path = np.genfromtxt(scanning_path_path, delimiter=',', dtype='float64')"
   ]
  },
  {
   "cell_type": "code",
   "execution_count": 5,
   "metadata": {},
   "outputs": [
    {
     "data": {
      "text/plain": [
       "(800, 1000)"
      ]
     },
     "execution_count": 5,
     "metadata": {},
     "output_type": "execute_result"
    }
   ],
   "source": [
    "image_array.shape"
   ]
  },
  {
   "cell_type": "code",
   "execution_count": 6,
   "metadata": {},
   "outputs": [
    {
     "data": {
      "text/plain": [
       "(2, 1000)"
      ]
     },
     "execution_count": 6,
     "metadata": {},
     "output_type": "execute_result"
    }
   ],
   "source": [
    "path.shape"
   ]
  },
  {
   "cell_type": "code",
   "execution_count": 20,
   "metadata": {},
   "outputs": [],
   "source": [
    "data, wls = bu.preprocess_baden(image_array)"
   ]
  },
  {
   "cell_type": "code",
   "execution_count": null,
   "metadata": {},
   "outputs": [],
   "source": [
    "fig, (ax1, ax2) = plt.subplots(1, 2)\n",
    "ax1.plot(path[0], path[1], marker='.', color='r', linestyle='none', alpha=0.6)\n",
    "ax1.plot(path[0], path[1], alpha=0.8)\n",
    "ax1.set_aspect('equal', adjustable='box')\n",
    "\n",
    "for i in range(data.shape[0]):\n",
    "    ax2.plot(wls, data[:,i], alpha=0.6)"
   ]
  },
  {
   "cell_type": "code",
   "execution_count": 13,
   "metadata": {},
   "outputs": [],
   "source": [
    "image_size = (150, 150)"
   ]
  },
  {
   "cell_type": "code",
   "execution_count": 28,
   "metadata": {},
   "outputs": [],
   "source": [
    "#initilizing vector as well as data for missing values\n",
    "zero_spectra = np.array([0 for i in range(image_array.shape[0])])"
   ]
  },
  {
   "cell_type": "code",
   "execution_count": 29,
   "metadata": {},
   "outputs": [],
   "source": [
    "#initialize rectangular image reconstruction matrix\n",
    "reconstructed_image = np.array([zero_spectra for i in range(image_size[0] * image_size[1])]).reshape(image_size[0], image_size[1], image_array.shape[0])"
   ]
  },
  {
   "cell_type": "code",
   "execution_count": 30,
   "metadata": {},
   "outputs": [
    {
     "data": {
      "text/plain": [
       "(150, 150, 800)"
      ]
     },
     "execution_count": 30,
     "metadata": {},
     "output_type": "execute_result"
    }
   ],
   "source": [
    "reconstructed_image.shape"
   ]
  }
 ],
 "metadata": {
  "kernelspec": {
   "display_name": "dreye (3.9)",
   "language": "python",
   "name": "dreye"
  },
  "language_info": {
   "codemirror_mode": {
    "name": "ipython",
    "version": 3
   },
   "file_extension": ".py",
   "mimetype": "text/x-python",
   "name": "python",
   "nbconvert_exporter": "python",
   "pygments_lexer": "ipython3",
   "version": "3.9.5"
  }
 },
 "nbformat": 4,
 "nbformat_minor": 5
}
